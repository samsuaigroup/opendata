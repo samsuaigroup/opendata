{
  "metadata": {
    "kernelspec": {
      "language": "python",
      "display_name": "Python 3",
      "name": "python3"
    },
    "language_info": {
      "name": "python",
      "version": "3.10.12",
      "mimetype": "text/x-python",
      "codemirror_mode": {
        "name": "ipython",
        "version": 3
      },
      "pygments_lexer": "ipython3",
      "nbconvert_exporter": "python",
      "file_extension": ".py"
    },
    "kaggle": {
      "accelerator": "nvidiaTeslaT4",
      "dataSources": [
        {
          "sourceId": 182633,
          "sourceType": "datasetVersion",
          "datasetId": 78313
        }
      ],
      "dockerImageVersionId": 30636,
      "isInternetEnabled": true,
      "language": "python",
      "sourceType": "notebook",
      "isGpuEnabled": true
    },
    "colab": {
      "provenance": []
    }
  },
  "nbformat_minor": 0,
  "nbformat": 4,
  "cells": [
    {
      "cell_type": "code",
      "source": [
        "# This Python 3 environment comes with many helpful analytics libraries installed\n",
        "# It is defined by the kaggle/python Docker image: https://github.com/kaggle/docker-python\n",
        "# For example, here's several helpful packages to load\n",
        "\n",
        "import numpy as np # linear algebra\n",
        "import pandas as pd # data processing, CSV file I/O (e.g. pd.read_csv)\n",
        "\n",
        "# Input data files are available in the read-only \"../input/\" directory\n",
        "# For example, running this (by clicking run or pressing Shift+Enter) will list all files under the input directory\n",
        "\n",
        "import os\n",
        "for dirname, _, filenames in os.walk('/kaggle/input'):\n",
        "    for filename in filenames:\n",
        "        print(os.path.join(dirname, filename))\n",
        "\n",
        "# You can write up to 20GB to the current directory (/kaggle/working/) that gets preserved as output when you create a version using \"Save & Run All\"\n",
        "# You can also write temporary files to /kaggle/temp/, but they won't be saved outside of the current session"
      ],
      "metadata": {
        "_uuid": "8f2839f25d086af736a60e9eeb907d3b93b6e0e5",
        "_cell_guid": "b1076dfc-b9ad-4769-8c92-a6c4dae69d19",
        "execution": {
          "iopub.status.busy": "2024-01-27T04:01:33.956269Z",
          "iopub.execute_input": "2024-01-27T04:01:33.956551Z",
          "iopub.status.idle": "2024-01-27T04:04:52.706876Z",
          "shell.execute_reply.started": "2024-01-27T04:01:33.956525Z",
          "shell.execute_reply": "2024-01-27T04:04:52.705681Z"
        },
        "trusted": true,
        "id": "KYLcltV3aN2r"
      },
      "execution_count": null,
      "outputs": []
    },
    {
      "cell_type": "code",
      "source": [
        "import pandas as pd\n",
        "import numpy as np\n",
        "from ultralytics import YOLO\n",
        "import matplotlib.pyplot as plt\n",
        "import cv2\n",
        "from fastai.vision.all import *\n",
        "from ipywidgets.widgets import *\n",
        "import os\n",
        "import fastai\n",
        "import torch\n",
        "\n"
      ],
      "metadata": {
        "execution": {
          "iopub.status.busy": "2024-01-27T04:24:59.455589Z",
          "iopub.execute_input": "2024-01-27T04:24:59.456439Z",
          "iopub.status.idle": "2024-01-27T04:24:59.461658Z",
          "shell.execute_reply.started": "2024-01-27T04:24:59.456405Z",
          "shell.execute_reply": "2024-01-27T04:24:59.460476Z"
        },
        "trusted": true,
        "id": "HqefOYP9aN2t"
      },
      "execution_count": null,
      "outputs": []
    },
    {
      "cell_type": "code",
      "source": [
        "print(fastai.__version__, torch.__version__)"
      ],
      "metadata": {
        "execution": {
          "iopub.status.busy": "2024-01-27T04:12:57.162838Z",
          "iopub.execute_input": "2024-01-27T04:12:57.163189Z",
          "iopub.status.idle": "2024-01-27T04:12:57.168534Z",
          "shell.execute_reply.started": "2024-01-27T04:12:57.163162Z",
          "shell.execute_reply": "2024-01-27T04:12:57.167428Z"
        },
        "trusted": true,
        "id": "e4nqFU9gaN2t"
      },
      "execution_count": null,
      "outputs": []
    },
    {
      "cell_type": "code",
      "source": [
        "data_path = \"/kaggle/input/new-plant-diseases-dataset/New Plant Diseases Dataset(Augmented)/New Plant Diseases Dataset(Augmented)\"\n",
        "train_path = data_path + \"/train\"\n",
        "valid_path = data_path + \"/valid\""
      ],
      "metadata": {
        "execution": {
          "iopub.status.busy": "2024-01-27T04:23:41.067545Z",
          "iopub.execute_input": "2024-01-27T04:23:41.068467Z",
          "iopub.status.idle": "2024-01-27T04:23:41.073158Z",
          "shell.execute_reply.started": "2024-01-27T04:23:41.068431Z",
          "shell.execute_reply": "2024-01-27T04:23:41.072059Z"
        },
        "trusted": true,
        "id": "qO2zFmNYaN2t"
      },
      "execution_count": null,
      "outputs": []
    },
    {
      "cell_type": "code",
      "source": [
        "train_d = os.listdir(train_path)\n",
        "valid_d = os.listdir(valid_path)\n"
      ],
      "metadata": {
        "execution": {
          "iopub.status.busy": "2024-01-27T04:23:44.978605Z",
          "iopub.execute_input": "2024-01-27T04:23:44.979348Z",
          "iopub.status.idle": "2024-01-27T04:23:44.984192Z",
          "shell.execute_reply.started": "2024-01-27T04:23:44.979315Z",
          "shell.execute_reply": "2024-01-27T04:23:44.983199Z"
        },
        "trusted": true,
        "id": "s1NsgBzQaN2u"
      },
      "execution_count": null,
      "outputs": []
    },
    {
      "cell_type": "code",
      "source": [
        "def move_data(source_folder, destination_folder, file_extensions=('.jpg', '.png')):\n",
        "    if not os.path.exists(source_folder) or not os.path.exists(destination_folder):\n",
        "        print(\"data o'tkazish uchun papka mavjud emas\")\n",
        "        return\n",
        "\n",
        "    for filename in os.listdir(source_folder):\n",
        "        source_path = os.path.join(source_folder, filename)\n",
        "\n",
        "        if os.path.isfile(source_path) and filename.lower().endswith(file_extensions):\n",
        "            destination_path = os.path.join(destination_folder, filename)\n",
        "\n",
        "            shutil.move(source_path, destination_path)\n"
      ],
      "metadata": {
        "execution": {
          "iopub.status.busy": "2024-01-27T04:27:37.680900Z",
          "iopub.execute_input": "2024-01-27T04:27:37.681321Z",
          "iopub.status.idle": "2024-01-27T04:27:37.688633Z",
          "shell.execute_reply.started": "2024-01-27T04:27:37.681290Z",
          "shell.execute_reply": "2024-01-27T04:27:37.687476Z"
        },
        "trusted": true,
        "id": "K9nPIgX1aN2u"
      },
      "execution_count": null,
      "outputs": []
    },
    {
      "cell_type": "code",
      "source": [
        "train_d.sort()\n",
        "valid_d.sort()\n",
        "train_d[0]"
      ],
      "metadata": {
        "execution": {
          "iopub.status.busy": "2024-01-27T04:31:19.981542Z",
          "iopub.execute_input": "2024-01-27T04:31:19.981928Z",
          "iopub.status.idle": "2024-01-27T04:31:19.988572Z",
          "shell.execute_reply.started": "2024-01-27T04:31:19.981898Z",
          "shell.execute_reply": "2024-01-27T04:31:19.987604Z"
        },
        "trusted": true,
        "id": "Tg3i-IIEaN2u"
      },
      "execution_count": null,
      "outputs": []
    },
    {
      "cell_type": "code",
      "source": [
        "train_path"
      ],
      "metadata": {
        "execution": {
          "iopub.status.busy": "2024-01-27T04:36:29.008219Z",
          "iopub.execute_input": "2024-01-27T04:36:29.008625Z",
          "iopub.status.idle": "2024-01-27T04:36:29.015182Z",
          "shell.execute_reply.started": "2024-01-27T04:36:29.008593Z",
          "shell.execute_reply": "2024-01-27T04:36:29.014172Z"
        },
        "trusted": true,
        "id": "gqNF95yxaN2u"
      },
      "execution_count": null,
      "outputs": []
    },
    {
      "cell_type": "code",
      "source": [
        "apple_f = os.path.join(\"/kaggle/working/\", \"full_apple\")\n",
        "if not os.path.exists(apple_f):\n",
        "    os.makedirs(apple_f)"
      ],
      "metadata": {
        "execution": {
          "iopub.status.busy": "2024-01-27T04:42:48.642269Z",
          "iopub.execute_input": "2024-01-27T04:42:48.642996Z",
          "iopub.status.idle": "2024-01-27T04:42:48.648109Z",
          "shell.execute_reply.started": "2024-01-27T04:42:48.642961Z",
          "shell.execute_reply": "2024-01-27T04:42:48.647121Z"
        },
        "trusted": true,
        "id": "f59Ac4xSaN2u"
      },
      "execution_count": null,
      "outputs": []
    },
    {
      "cell_type": "code",
      "source": [
        "move_data(train_path + \"/\" + train_d[0], apple_f)"
      ],
      "metadata": {
        "execution": {
          "iopub.status.busy": "2024-01-27T04:45:01.163319Z",
          "iopub.execute_input": "2024-01-27T04:45:01.164204Z",
          "iopub.status.idle": "2024-01-27T04:45:01.260691Z",
          "shell.execute_reply.started": "2024-01-27T04:45:01.164171Z",
          "shell.execute_reply": "2024-01-27T04:45:01.259269Z"
        },
        "trusted": true,
        "id": "b4fI56EXaN2u"
      },
      "execution_count": null,
      "outputs": []
    },
    {
      "cell_type": "code",
      "source": [
        "print(fastai.__version__, torch.__version__)"
      ],
      "metadata": {
        "id": "2LXD4XWnaN2v"
      },
      "execution_count": null,
      "outputs": []
    },
    {
      "cell_type": "code",
      "source": [
        "path_all = \"/kaggle/input/all_plants/\"\n",
        "plant_name = DataBlock(\n",
        "blocks = (ImageBlock, CategoryBlock),\n",
        "    get_items = get_image_files,\n",
        "    splitter = RandomSplitter(valid_pct = 0.3, seed=2),\n",
        "    get_y = parent_label,\n",
        "    item_tfms = Resize(224)\n",
        ")\n",
        "\n",
        "dls_plants_names = plant_name.dataloaders(path_all, bs=14)\n",
        "\n",
        "model_name_classes = cnn_learner(dls_plants_names, resnet152, metrics=accuracy)\n",
        "model_name_classes.fine_tune(3)\n",
        "\n",
        "\n",
        "model_name_classes.export(\"/kaggle/working/plant_name_classes.pkl\")"
      ],
      "metadata": {
        "id": "S_Xf5FpYNkum"
      },
      "execution_count": null,
      "outputs": []
    },
    {
      "cell_type": "code",
      "source": [
        "path = \"/kaggle/input/collect-data/\"\n",
        "dirs = os.listdir(path)\n",
        "dirs1 = []\n",
        "for i in dirs:\n",
        "    dirs1.append(path+i+'/'+i.replace(\"1\",\"\"))\n",
        "dirs1.sort()\n",
        "dirs1\n",
        "\n",
        "path_grape = dirs1[0]\n",
        "path_peach = dirs1[1]\n",
        "path_pepper = dirs1[2]\n",
        "path_potato = dirs1[3]\n",
        "path_stawberry = dirs1[4]\n",
        "path_tomato = dirs1[5]"
      ],
      "metadata": {
        "id": "h_wYw_OGOF2s"
      },
      "execution_count": null,
      "outputs": []
    },
    {
      "cell_type": "code",
      "source": [
        "grape = DataBlock(\n",
        "blocks = (ImageBlock, CategoryBlock),\n",
        "    get_items = get_image_files,\n",
        "    splitter = RandomSplitter(valid_pct = 0.3, seed=2),\n",
        "    get_y = parent_label,\n",
        "    item_tfms = Resize(224)\n",
        ")\n",
        "\n",
        "dls_grape = grape.dataloaders(path_grape, bs=14)\n",
        "\n",
        "model1 = cnn_learner(dls_grape, resnet152, metrics=accuracy)\n",
        "model1.fine_tune(3)\n",
        "\n",
        "model1.export(\"/kaggle/working/grape_diasses.pkl\")"
      ],
      "metadata": {
        "id": "w6nz4lcPOCLZ"
      },
      "execution_count": null,
      "outputs": []
    },
    {
      "cell_type": "code",
      "source": [
        "peach = DataBlock(\n",
        "blocks = (ImageBlock, CategoryBlock),\n",
        "    get_items = get_image_files,\n",
        "    splitter = RandomSplitter(valid_pct = 0.2, seed=2),\n",
        "    get_y = parent_label,\n",
        "    item_tfms = Resize(224)\n",
        ")\n",
        "\n",
        "dls_peach = peach.dataloaders(path_peach, bs=14)\n",
        "\n",
        "model2 = cnn_learner(dls_peach, resnet50, metrics=accuracy)\n",
        "model2.fine_tune(3)\n",
        "\n",
        "model2.export(\"/kaggle/working/peach_diasses.pkl\")\n",
        "\n"
      ],
      "metadata": {
        "id": "IRI_nQzoOG1s"
      },
      "execution_count": null,
      "outputs": []
    },
    {
      "cell_type": "code",
      "source": [
        "pepper = DataBlock(\n",
        "blocks = (ImageBlock, CategoryBlock),\n",
        "    get_items = get_image_files,\n",
        "    splitter = RandomSplitter(valid_pct = 0.2, seed=2),\n",
        "    get_y = parent_label,\n",
        "    item_tfms = Resize(224)\n",
        ")\n",
        "\n",
        "dls_pepper = pepper.dataloaders(path_pepper, bs=14)\n",
        "\n",
        "model5 = cnn_learner(dls_pepper, resnet50, metrics=accuracy)\n",
        "model5.fine_tune(3)\n",
        "\n",
        "model5.export(\"/kaggle/working/pepper_diasses.pkl\")\n"
      ],
      "metadata": {
        "id": "kiUGuIbXOIxG"
      },
      "execution_count": null,
      "outputs": []
    },
    {
      "cell_type": "code",
      "source": [
        "potato = DataBlock(\n",
        "blocks = (ImageBlock, CategoryBlock),\n",
        "    get_items = get_image_files,\n",
        "    splitter = RandomSplitter(valid_pct = 0.2, seed=2),\n",
        "    get_y = parent_label,\n",
        "    item_tfms = Resize(224)\n",
        ")\n",
        "\n",
        "dls_potato = potato.dataloaders(path_potato, bs=14)\n",
        "\n",
        "model6 = cnn_learner(dls_potato, resnet50, metrics=accuracy)\n",
        "model6.fine_tune(3)\n",
        "\n",
        "model6.export(\"/kaggle/working/potato_diasses.pkl\")\n"
      ],
      "metadata": {
        "id": "bsTszOWBOKlN"
      },
      "execution_count": null,
      "outputs": []
    },
    {
      "cell_type": "code",
      "source": [
        "stawberry = DataBlock(\n",
        "blocks = (ImageBlock, CategoryBlock),\n",
        "    get_items = get_image_files,\n",
        "    splitter = RandomSplitter(valid_pct = 0.2, seed=2),\n",
        "    get_y = parent_label,\n",
        "    item_tfms = Resize(224)\n",
        ")\n",
        "\n",
        "dls_stawberry = stawberry.dataloaders(path_stawberry, bs=14)\n",
        "\n",
        "model7 = cnn_learner(dls_stawberry, resnet50, metrics=accuracy)\n",
        "model7.fine_tune(3)\n",
        "\n",
        "model7.export(\"/kaggle/working/stawberry_diasses.pkl\")\n"
      ],
      "metadata": {
        "id": "3ggXrIJUOMtd"
      },
      "execution_count": null,
      "outputs": []
    },
    {
      "cell_type": "code",
      "source": [
        "path = \"/kaggle/input/collect-data/Tomato_diasses1/Tomato_diasses\"\n",
        "tomato = DataBlock(\n",
        "blocks = (ImageBlock, CategoryBlock),\n",
        "    get_items = get_image_files,\n",
        "    splitter = RandomSplitter(valid_pct = 0.3, seed=2),\n",
        "    get_y = parent_label,\n",
        "    item_tfms = Resize(224)\n",
        ")\n",
        "\n",
        "dls_tomato= tomato.dataloaders(path, bs=14)\n",
        "\n",
        "model7 = cnn_learner(dls_tomato, resnet50, metrics=accuracy)\n",
        "model7.fine_tune(3)\n",
        "model.export(\"/kaggle/working/tomato.pkl\")\n"
      ],
      "metadata": {
        "id": "j92lwmomOQqI"
      },
      "execution_count": null,
      "outputs": []
    },
    {
      "cell_type": "code",
      "source": [],
      "metadata": {
        "id": "TXXrqOcTOSiJ"
      },
      "execution_count": null,
      "outputs": []
    }
  ]
}